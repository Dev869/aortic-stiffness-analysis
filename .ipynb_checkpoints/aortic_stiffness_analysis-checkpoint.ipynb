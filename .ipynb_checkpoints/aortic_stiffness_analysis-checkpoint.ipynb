{
 "cells": [
  {
   "cell_type": "markdown",
   "id": "e61311fa-a8d6-49bb-a1ce-a1eda5323837",
   "metadata": {},
   "source": [
    "# Aortic Stiffness\n",
    "*written by Devin Wilson in the fall of 2024*"
   ]
  },
  {
   "cell_type": "markdown",
   "id": "6eb62f92-8197-4777-b104-c0a7610f1a54",
   "metadata": {},
   "source": [
    "## Run Imports\n",
    "\n",
    "If this doesn't run correctly, you likely missed a step listed in the README\n"
   ]
  },
  {
   "cell_type": "code",
   "execution_count": 3,
   "id": "a29a4f7d-ba87-4417-9f62-a4efeb39838d",
   "metadata": {},
   "outputs": [],
   "source": [
    "import cv2\n",
    "import numpy as np\n",
    "import csv"
   ]
  },
  {
   "cell_type": "markdown",
   "id": "ad78b9a3-950b-4431-8d2b-898640e5b375",
   "metadata": {},
   "source": [
    "## Read B-Mode video and Segmentation Mask from ImageJ"
   ]
  },
  {
   "cell_type": "code",
   "execution_count": null,
   "id": "c1507a39-0814-4c6a-91b3-dbdf55003bf3",
   "metadata": {},
   "outputs": [],
   "source": [
    "def process_frame(frame, mask):\n",
    "    # Apply the mask\n",
    "    masked_frame = cv2.bitwise_and(frame, frame, mask=mask)\n",
    "\n",
    "    # Preprocess the masked frame\n",
    "    gray = cv2.cvtColor(masked_frame, cv2.COLOR_BGR2GRAY)\n",
    "    blurred = cv2.GaussianBlur(gray, (5, 5), 0)\n",
    "\n",
    "    # Edge detection\n",
    "    edges = cv2.Canny(blurred, 100, 200)\n",
    "\n",
    "    # Find contours\n",
    "    contours, _ = cv2.findContours(edges, cv2.RETR_EXTERNAL, cv2.CHAIN_APPROX_SIMPLE)\n",
    "\n",
    "    # Filter contours (adjust thresholds as needed)\n",
    "    filtered_contours = []\n",
    "    for cnt in contours:\n",
    "        if cv2.contourArea(cnt) > 100 and cv2.arcLength(cnt, True) > 100:\n",
    "            filtered_contours.append(cnt)\n",
    "\n",
    "    # Draw contours on the original frame\n",
    "    cv2.drawContours(frame, filtered_contours, -1, (0, 255, 0), 2)\n",
    "\n",
    "    return frame, filtered_contours\n",
    "\n",
    "# Read the video and mask\n",
    "cap = cv2.VideoCapture('your_video.mp4')\n",
    "mask = cv2.imread('aorta_mask.png', cv2.IMREAD_GRAYSCALE)\n",
    "\n",
    "# Create a CSV file to store contour data\n",
    "with open('aorta_contours.csv', 'w', newline='') as csvfile:\n",
    "    fieldnames = ['frame_number', 'contour_points']\n",
    "    writer = csv.DictWriter(csvfile, fieldnames=fieldnames)\n",
    "    writer.writeheader()\n",
    "\n",
    "    frame_count = 0\n",
    "    while True:\n",
    "        ret, frame = cap.read()\n",
    "\n",
    "        if not ret:\n",
    "            break\n",
    "\n",
    "        processed_frame, contours = process_frame(frame, mask)\n",
    "\n",
    "        # Write contour data to CSV\n",
    "        for cnt in contours:\n",
    "            points = cnt.reshape(-1, 2).tolist()\n",
    "            writer.writerow({'frame_number': frame_count, 'contour_points': points})\n",
    "\n",
    "        cv2.imshow('Frame', processed_frame)\n",
    "\n",
    "        frame_count += 1\n",
    "\n",
    "        if cv2.waitKey(1) & 0xFF == ord('q'):\n",
    "            break\n",
    "\n",
    "cap.release()\n",
    "cv2.destroyAllWindows()"
   ]
  },
  {
   "cell_type": "code",
   "execution_count": null,
   "id": "42624aac-fbc3-405a-9c66-6bcebee6c443",
   "metadata": {},
   "outputs": [],
   "source": []
  }
 ],
 "metadata": {
  "kernelspec": {
   "display_name": "Python 3 (ipykernel)",
   "language": "python",
   "name": "python3"
  },
  "language_info": {
   "codemirror_mode": {
    "name": "ipython",
    "version": 3
   },
   "file_extension": ".py",
   "mimetype": "text/x-python",
   "name": "python",
   "nbconvert_exporter": "python",
   "pygments_lexer": "ipython3",
   "version": "3.8.20"
  }
 },
 "nbformat": 4,
 "nbformat_minor": 5
}
