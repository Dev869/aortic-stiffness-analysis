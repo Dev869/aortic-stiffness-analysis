{
 "cells": [
  {
   "cell_type": "markdown",
   "id": "e61311fa-a8d6-49bb-a1ce-a1eda5323837",
   "metadata": {},
   "source": [
    "# Aortic Stiffness\n",
    "*written by Devin Wilson in the fall of 2024*"
   ]
  },
  {
   "cell_type": "markdown",
   "id": "6eb62f92-8197-4777-b104-c0a7610f1a54",
   "metadata": {},
   "source": [
    "## Run Imports\n",
    "\n",
    "If this doesn't run correctly, you likely missed a step listed in the README\n"
   ]
  },
  {
   "cell_type": "code",
   "execution_count": 3,
   "id": "a29a4f7d-ba87-4417-9f62-a4efeb39838d",
   "metadata": {},
   "outputs": [],
   "source": [
    "import cv2\n",
    "import numpy as np\n",
    "import csv"
   ]
  },
  {
   "cell_type": "markdown",
   "id": "ad78b9a3-950b-4431-8d2b-898640e5b375",
   "metadata": {},
   "source": [
    "## Read B-Mode video and Segmentation Mask from ImageJ\n",
    "\n",
    "*The code below was generated with Google's Gemini AI*"
   ]
  },
  {
   "cell_type": "code",
   "execution_count": 5,
   "id": "c1507a39-0814-4c6a-91b3-dbdf55003bf3",
   "metadata": {},
   "outputs": [
    {
     "name": "stderr",
     "output_type": "stream",
     "text": [
      "OpenCV: Couldn't read video stream from file \"your_video.mp4\"\n",
      "[ WARN:0@2129.809] global loadsave.cpp:241 findDecoder imread_('aorta_mask.png'): can't open/read file: check file path/integrity\n"
     ]
    },
    {
     "ename": "FileNotFoundError",
     "evalue": "[Errno 2] No such file or directory: 'imagej_measurements.csv'",
     "output_type": "error",
     "traceback": [
      "\u001b[0;31m---------------------------------------------------------------------------\u001b[0m",
      "\u001b[0;31mFileNotFoundError\u001b[0m                         Traceback (most recent call last)",
      "Cell \u001b[0;32mIn[5], line 22\u001b[0m\n\u001b[1;32m     19\u001b[0m mask \u001b[38;5;241m=\u001b[39m cv2\u001b[38;5;241m.\u001b[39mimread(\u001b[38;5;124m'\u001b[39m\u001b[38;5;124maorta_mask.png\u001b[39m\u001b[38;5;124m'\u001b[39m, cv2\u001b[38;5;241m.\u001b[39mIMREAD_GRAYSCALE)\n\u001b[1;32m     21\u001b[0m \u001b[38;5;66;03m# Read ImageJ measurements from CSV\u001b[39;00m\n\u001b[0;32m---> 22\u001b[0m \u001b[38;5;28;01mwith\u001b[39;00m \u001b[38;5;28;43mopen\u001b[39;49m\u001b[43m(\u001b[49m\u001b[38;5;124;43m'\u001b[39;49m\u001b[38;5;124;43mimagej_measurements.csv\u001b[39;49m\u001b[38;5;124;43m'\u001b[39;49m\u001b[43m,\u001b[49m\u001b[43m \u001b[49m\u001b[38;5;124;43m'\u001b[39;49m\u001b[38;5;124;43mr\u001b[39;49m\u001b[38;5;124;43m'\u001b[39;49m\u001b[43m)\u001b[49m \u001b[38;5;28;01mas\u001b[39;00m mj_file:\n\u001b[1;32m     23\u001b[0m     reader \u001b[38;5;241m=\u001b[39m csv\u001b[38;5;241m.\u001b[39mDictReader(mj_file)\n\u001b[1;32m     24\u001b[0m     imagej_data \u001b[38;5;241m=\u001b[39m \u001b[38;5;28mlist\u001b[39m(reader)\n",
      "File \u001b[0;32m~/anaconda3/envs/aortic_stiffness/lib/python3.8/site-packages/IPython/core/interactiveshell.py:284\u001b[0m, in \u001b[0;36m_modified_open\u001b[0;34m(file, *args, **kwargs)\u001b[0m\n\u001b[1;32m    277\u001b[0m \u001b[38;5;28;01mif\u001b[39;00m file \u001b[38;5;129;01min\u001b[39;00m {\u001b[38;5;241m0\u001b[39m, \u001b[38;5;241m1\u001b[39m, \u001b[38;5;241m2\u001b[39m}:\n\u001b[1;32m    278\u001b[0m     \u001b[38;5;28;01mraise\u001b[39;00m \u001b[38;5;167;01mValueError\u001b[39;00m(\n\u001b[1;32m    279\u001b[0m         \u001b[38;5;124mf\u001b[39m\u001b[38;5;124m\"\u001b[39m\u001b[38;5;124mIPython won\u001b[39m\u001b[38;5;124m'\u001b[39m\u001b[38;5;124mt let you open fd=\u001b[39m\u001b[38;5;132;01m{\u001b[39;00mfile\u001b[38;5;132;01m}\u001b[39;00m\u001b[38;5;124m by default \u001b[39m\u001b[38;5;124m\"\u001b[39m\n\u001b[1;32m    280\u001b[0m         \u001b[38;5;124m\"\u001b[39m\u001b[38;5;124mas it is likely to crash IPython. If you know what you are doing, \u001b[39m\u001b[38;5;124m\"\u001b[39m\n\u001b[1;32m    281\u001b[0m         \u001b[38;5;124m\"\u001b[39m\u001b[38;5;124myou can use builtins\u001b[39m\u001b[38;5;124m'\u001b[39m\u001b[38;5;124m open.\u001b[39m\u001b[38;5;124m\"\u001b[39m\n\u001b[1;32m    282\u001b[0m     )\n\u001b[0;32m--> 284\u001b[0m \u001b[38;5;28;01mreturn\u001b[39;00m \u001b[43mio_open\u001b[49m\u001b[43m(\u001b[49m\u001b[43mfile\u001b[49m\u001b[43m,\u001b[49m\u001b[43m \u001b[49m\u001b[38;5;241;43m*\u001b[39;49m\u001b[43margs\u001b[49m\u001b[43m,\u001b[49m\u001b[43m \u001b[49m\u001b[38;5;241;43m*\u001b[39;49m\u001b[38;5;241;43m*\u001b[39;49m\u001b[43mkwargs\u001b[49m\u001b[43m)\u001b[49m\n",
      "\u001b[0;31mFileNotFoundError\u001b[0m: [Errno 2] No such file or directory: 'imagej_measurements.csv'"
     ]
    }
   ],
   "source": [
    "def process_frame(frame, mask):\n",
    "    # Apply the mask\n",
    "    masked_frame = cv2.bitwise_and(frame, frame, mask=mask)\n",
    "\n",
    "    # Preprocess the masked frame\n",
    "    gray = cv2.cvtColor(masked_frame, cv2.COLOR_BGR2GRAY)\n",
    "    blurred = cv2.GaussianBlur(gray, (5, 5), 0)\n",
    "\n",
    "    # Edge detection (optional, if needed for further analysis)\n",
    "    # edges = cv2.Canny(blurred, 100, 200)\n",
    "\n",
    "    # Find contours (optional, if needed for further analysis)\n",
    "    # contours, _ = cv2.findContours(edges, cv2.RETR_EXTERNAL, cv2.CHAIN_APPROX_SIMPLE)\n",
    "\n",
    "    return masked_frame\n",
    "\n",
    "# Read the video and mask\n",
    "cap = cv2.VideoCapture('your_video.mp4')\n",
    "mask = cv2.imread('aorta_mask.png', cv2.IMREAD_GRAYSCALE)\n",
    "\n",
    "# Read ImageJ measurements from CSV\n",
    "with open('imagej_measurements.csv', 'r') as mj_file:\n",
    "    reader = csv.DictReader(mj_file)\n",
    "    imagej_data = list(reader)\n",
    "\n",
    "# Create a CSV file to store results\n",
    "with open('aorta_analysis.csv', 'w', newline='') as csvfile:\n",
    "    fieldnames = ['frame_number', 'wall_thickness', 'vessel_diameter']\n",
    "    writer = csv.DictWriter(csvfile, fieldnames=fieldnames)\n",
    "    writer.writeheader()\n",
    "\n",
    "frame_count = 0\n",
    "while True:\n",
    "    ret, frame = cap.read()\n",
    "\n",
    "    if not ret:\n",
    "        break\n",
    "\n",
    "    processed_frame = process_frame(frame, mask)\n",
    "\n",
    "    # Extract measurements from ImageJ data\n",
    "    wall_thickness = float(imagej_data[frame_count]['wall_thickness'])\n",
    "    vessel_diameter = float(imagej_data[frame_count]['vessel_diameter'])\n",
    "\n",
    "    # Write data to CSV\n",
    "    writer.writerow({'frame_number': frame_count, \n",
    "                      'wall_thickness': wall_thickness, \n",
    "                      'vessel_diameter': vessel_diameter})\n",
    "\n",
    "    cv2.imshow('Frame', processed_frame)\n",
    "\n",
    "    frame_count += 1\n",
    "\n",
    "    if cv2.waitKey(1) & 0xFF == ord('q'):\n",
    "        break\n",
    "\n",
    "cap.release()\n",
    "cv2.destroyAllWindows()"
   ]
  },
  {
   "cell_type": "code",
   "execution_count": null,
   "id": "42624aac-fbc3-405a-9c66-6bcebee6c443",
   "metadata": {},
   "outputs": [],
   "source": []
  }
 ],
 "metadata": {
  "kernelspec": {
   "display_name": "Python 3 (ipykernel)",
   "language": "python",
   "name": "python3"
  },
  "language_info": {
   "codemirror_mode": {
    "name": "ipython",
    "version": 3
   },
   "file_extension": ".py",
   "mimetype": "text/x-python",
   "name": "python",
   "nbconvert_exporter": "python",
   "pygments_lexer": "ipython3",
   "version": "3.8.20"
  }
 },
 "nbformat": 4,
 "nbformat_minor": 5
}
